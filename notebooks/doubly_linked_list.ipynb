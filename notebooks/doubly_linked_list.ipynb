{
 "cells": [
  {
   "cell_type": "code",
   "execution_count": 8,
   "metadata": {},
   "outputs": [],
   "source": [
    "class Node:\n",
    "    def __init__(self, value):\n",
    "        self.value = value\n",
    "        self.next = None\n",
    "        self.prev = None\n",
    "        \n",
    "class DoublyLinkedList:\n",
    "    def __init__(self, value):\n",
    "        new_node = Node(value)\n",
    "        self.head = new_node\n",
    "        self.tail = new_node\n",
    "        self.length = 1\n",
    "    \n",
    "    def print_list(self):\n",
    "        temp = self.head\n",
    "        while temp is not None:\n",
    "            print(temp.value)\n",
    "            temp = temp.next\n",
    "            \n",
    "    def append(self, value):\n",
    "        new_node = Node(value)\n",
    "        if self.length == 0:\n",
    "            self.head = new_node\n",
    "            self.tail = new_node\n",
    "        else:\n",
    "            self.tail.next = new_node\n",
    "            new_node.prev = self.tail\n",
    "            self.tail = new_node\n",
    "        self.length += 1\n",
    "        return True\n",
    "    \n",
    "    def pop(self):\n",
    "        if self.length == 0:\n",
    "            return None\n",
    "        temp = self.tail\n",
    "        if self.length == 1:\n",
    "            self.head = None\n",
    "            self.tail = None\n",
    "        else:\n",
    "            self.tail = self.tail.prev\n",
    "            self.tail.next = None\n",
    "            temp.prev = None\n",
    "        self.length -= 1\n",
    "        return temp\n",
    "            \n",
    "    def prepend(self, value):\n",
    "        new_node = Node(value)\n",
    "        if self.length == 0:\n",
    "            self.head = new_node\n",
    "            self.tail = new_node\n",
    "        else:\n",
    "            new_node.next = self.head\n",
    "            self.head.prev = new_node\n",
    "            self.head = new_node\n",
    "        self.length += 1\n",
    "        return True\n",
    "        \n",
    "    def pop_first(self):\n",
    "        if self.length == 0:\n",
    "            return None\n",
    "        temp = self.head\n",
    "        if self.length == 1:\n",
    "            self.head = None\n",
    "            self.tail = None\n",
    "        else:\n",
    "            self.head = self.head.next\n",
    "            self.head.prev = temp\n",
    "            temp.next = None\n",
    "        self.length -= 1\n",
    "        return temp\n",
    "    \n",
    "    def get(self, index):\n",
    "        if index < 0 or index > self.length -1:\n",
    "            return None\n",
    "        temp = self.head\n",
    "        if index < self.length / 2:\n",
    "            for _ in range(index):\n",
    "                temp = temp.next\n",
    "        else:\n",
    "            temp = self.tail\n",
    "            for i in range(self.length -1, index, -1):\n",
    "                temp = temp.prev\n",
    "        return temp\n",
    "    \n",
    "    def set(self, index, value):\n",
    "        temp = self.get(index)\n",
    "        if temp:\n",
    "            temp.value = value\n",
    "            return True\n",
    "        return False\n",
    "        \n",
    "    def insert(self, index, value):\n",
    "        if index < 0 or index > self.length:\n",
    "            return False\n",
    "        if index == 0:\n",
    "            return self.prepend(value)\n",
    "        if index == self.length:\n",
    "            return self.append(value)\n",
    "        new_node = Node(value)\n",
    "        before = self.get(index -1)\n",
    "        after = before.next\n",
    "        \n",
    "        new_node.prev = before\n",
    "        new_node.next = after\n",
    "        before.next = new_node\n",
    "        after.prev = new_node\n",
    "        \n",
    "        self.length += 1\n",
    "        return True\n",
    "    \n",
    "    def remove(self, index):\n",
    "        if index < 0 or index >= self.length:\n",
    "            return None\n",
    "        if index == 0:\n",
    "            return self.pop_first()\n",
    "        if index == self.length - 1:\n",
    "            return self.pop()\n",
    "        \n",
    "        temp = self.get(index)\n",
    "        temp.next.prev = temp.prev\n",
    "        temp.prev.next = temp.next\n",
    "        temp.next = None\n",
    "        temp.prev = None\n",
    "        self.length -= 1\n",
    "        return temp\n",
    "        "
   ]
  },
  {
   "cell_type": "code",
   "execution_count": 13,
   "metadata": {},
   "outputs": [
    {
     "name": "stdout",
     "output_type": "stream",
     "text": [
      "7\n"
     ]
    }
   ],
   "source": [
    "my_doubly_linked_list = DoublyLinkedList(7)\n",
    "my_doubly_linked_list.print_list()"
   ]
  },
  {
   "cell_type": "code",
   "execution_count": 14,
   "metadata": {},
   "outputs": [
    {
     "name": "stdout",
     "output_type": "stream",
     "text": [
      "4\n",
      "7\n"
     ]
    }
   ],
   "source": [
    "my_doubly_linked_list = DoublyLinkedList(4)\n",
    "my_doubly_linked_list.append(7)\n",
    "my_doubly_linked_list.print_list()"
   ]
  },
  {
   "cell_type": "code",
   "execution_count": 23,
   "metadata": {},
   "outputs": [
    {
     "name": "stdout",
     "output_type": "stream",
     "text": [
      "<__main__.Node object at 0x7fda4834d060>\n",
      "<__main__.Node object at 0x7fda4834c070>\n",
      "None\n"
     ]
    }
   ],
   "source": [
    "my_doubly_linked_list = DoublyLinkedList(1)\n",
    "my_doubly_linked_list.append(2)\n",
    "print(my_doubly_linked_list.pop())\n",
    "print(my_doubly_linked_list.pop())\n",
    "print(my_doubly_linked_list.pop())\n",
    "my_doubly_linked_list.print_list()"
   ]
  },
  {
   "cell_type": "code",
   "execution_count": 12,
   "metadata": {},
   "outputs": [
    {
     "name": "stdout",
     "output_type": "stream",
     "text": [
      "3\n",
      "4\n"
     ]
    }
   ],
   "source": [
    "my_doubly_linked_list = DoublyLinkedList(4)\n",
    "my_doubly_linked_list.prepend(3)\n",
    "my_doubly_linked_list.print_list()"
   ]
  },
  {
   "cell_type": "code",
   "execution_count": 14,
   "metadata": {},
   "outputs": [
    {
     "name": "stdout",
     "output_type": "stream",
     "text": [
      "3\n",
      "4\n",
      "<__main__.Node object at 0x7ff70f756940>\n",
      "4\n",
      "<__main__.Node object at 0x7ff70f7568e0>\n"
     ]
    }
   ],
   "source": [
    "my_doubly_linked_list = DoublyLinkedList(4)\n",
    "my_doubly_linked_list.prepend(3)\n",
    "my_doubly_linked_list.print_list()\n",
    "print(my_doubly_linked_list.pop_first())\n",
    "my_doubly_linked_list.print_list()\n",
    "print(my_doubly_linked_list.pop_first())\n",
    "my_doubly_linked_list.print_list()"
   ]
  },
  {
   "cell_type": "code",
   "execution_count": 20,
   "metadata": {},
   "outputs": [
    {
     "name": "stdout",
     "output_type": "stream",
     "text": [
      "None\n",
      "3\n",
      "4\n",
      "5\n",
      "None\n"
     ]
    }
   ],
   "source": [
    "my_doubly_linked_list = DoublyLinkedList(4)\n",
    "my_doubly_linked_list.prepend(5)\n",
    "my_doubly_linked_list.prepend(4)\n",
    "my_doubly_linked_list.prepend(3)\n",
    "print(my_doubly_linked_list.get(-5))\n",
    "print(my_doubly_linked_list.get(0))\n",
    "print(my_doubly_linked_list.get(1))\n",
    "print(my_doubly_linked_list.get(2))\n",
    "print(my_doubly_linked_list.get(5))"
   ]
  },
  {
   "cell_type": "code",
   "execution_count": 3,
   "metadata": {},
   "outputs": [
    {
     "name": "stdout",
     "output_type": "stream",
     "text": [
      "3\n",
      "777\n",
      "5\n",
      "4\n"
     ]
    }
   ],
   "source": [
    "my_doubly_linked_list = DoublyLinkedList(4)\n",
    "my_doubly_linked_list.prepend(5)\n",
    "my_doubly_linked_list.prepend(4)\n",
    "my_doubly_linked_list.prepend(3)\n",
    "my_doubly_linked_list.set(1, 777)\n",
    "my_doubly_linked_list.print_list()"
   ]
  },
  {
   "cell_type": "code",
   "execution_count": 7,
   "metadata": {},
   "outputs": [
    {
     "name": "stdout",
     "output_type": "stream",
     "text": [
      "3\n",
      "777\n",
      "4\n",
      "5\n",
      "4\n"
     ]
    }
   ],
   "source": [
    "my_doubly_linked_list = DoublyLinkedList(4)\n",
    "my_doubly_linked_list.prepend(5)\n",
    "my_doubly_linked_list.prepend(4)\n",
    "my_doubly_linked_list.prepend(3)\n",
    "my_doubly_linked_list.insert(1, 777)\n",
    "my_doubly_linked_list.print_list()"
   ]
  },
  {
   "cell_type": "code",
   "execution_count": 13,
   "metadata": {},
   "outputs": [
    {
     "name": "stdout",
     "output_type": "stream",
     "text": [
      "3\n",
      "4\n",
      "5\n"
     ]
    }
   ],
   "source": [
    "my_doubly_linked_list = DoublyLinkedList(777)\n",
    "my_doubly_linked_list.prepend(5)\n",
    "my_doubly_linked_list.prepend(4)\n",
    "my_doubly_linked_list.prepend(3)\n",
    "my_doubly_linked_list.remove(3)\n",
    "my_doubly_linked_list.print_list()"
   ]
  }
 ],
 "metadata": {
  "kernelspec": {
   "display_name": "Python 3 (ipykernel)",
   "language": "python",
   "name": "python3"
  },
  "language_info": {
   "codemirror_mode": {
    "name": "ipython",
    "version": 3
   },
   "file_extension": ".py",
   "mimetype": "text/x-python",
   "name": "python",
   "nbconvert_exporter": "python",
   "pygments_lexer": "ipython3",
   "version": "3.8.10"
  },
  "vscode": {
   "interpreter": {
    "hash": "916dbcbb3f70747c44a77c7bcd40155683ae19c65e1c03b4aa3499c5328201f1"
   }
  }
 },
 "nbformat": 4,
 "nbformat_minor": 2
}
